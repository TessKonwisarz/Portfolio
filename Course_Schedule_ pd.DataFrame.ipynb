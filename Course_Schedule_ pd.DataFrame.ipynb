{
 "cells": [
  {
   "cell_type": "markdown",
   "metadata": {
    "collapsed": false
   },
   "source": [
    "# Course Schedule: pandas DataFrame"
   ]
  },
  {
   "cell_type": "code",
   "execution_count": 98,
   "metadata": {
    "collapsed": false
   },
   "outputs": [
   ],
   "source": [
    "#Import pandas\n",
    "import pandas as pd"
   ]
  },
  {
   "cell_type": "code",
   "execution_count": 91,
   "metadata": {
    "collapsed": false
   },
   "outputs": [
   ],
   "source": [
    "#for complete, use booleans (True for complete)\n",
    "#for course mark, perform grade calculation operations (#/#)*100, to calculate mark in percent, for assignments that do not have grades associated used naN"
   ]
  },
  {
   "cell_type": "code",
   "execution_count": 92,
   "metadata": {
    "collapsed": false
   },
   "outputs": [
    {
     "name": "stdout",
     "output_type": "stream",
     "text": [
      "    Due_Date   Time Class_Name Course_Code Assignment_Type  \\\n",
      "0  2020-10-2  23.59          a      NESC 1         Reading   \n",
      "1  2020-10-7  12.00          b      NESC 2            Exam   \n",
      "2  2020-12-6  23.59          c      NESC 3  Discussionpost   \n",
      "3  2020-11-9  23.59          d      NESC 4            Demo   \n",
      "4  2020-9-26   7.00          e      NESC 5            Test   \n",
      "5  2020-12-1  10.00          c      NESC 3         Project   \n",
      "\n",
      "                         To_Do Complete?   Grade  \n",
      "0                  Ch.1, Ch. 2       yes     NaN  \n",
      "1       Ch. 7, Ch.9(p.333-335)        no  0.0000  \n",
      "2                Lecture 1 & 2        no  0.0000  \n",
      "3          Find relevant topic        no  0.0000  \n",
      "4              Ch.1 & Ch.2-2.5       yes  0.9375  \n",
      "5  course material application        no  0.0000  \n"
     ]
    }
   ],
   "source": [
    "#Make a list for each pandas DataFrame column, keeping all indexes corresponding to the same data consistent in order across each list\n",
    "course_data = {\"Due_Date\": ['2020-10-2', '2020-10-7', '2020-12-6', '2020-11-9', '2020-9-26', '2020-12-1'],\n",
    "               'Time': [23.59,12.00,23.59,23.59,7.00,10.00], \n",
    "               'Class_Name': ['a', 'b', 'c', 'd', 'e', 'c'], \n",
    "               'Course_Code': ['NESC 1', 'NESC 2', 'NESC 3', 'NESC 4', 'NESC 5', 'NESC 3'], \n",
    "               'Assignment_Type': ['Reading', 'Exam', 'Discussion' 'post', 'Demo', 'Test', 'Project' ], \n",
    "               'To_Do': ['Ch.1, Ch. 2', 'Ch. 7, Ch.9(p.333-335)', 'Lecture 1 & 2', 'Find relevant topic', 'Ch.1 & Ch.2-2.5', 'course material application'], \n",
    "               'Complete?': ['yes', 'no', 'no', 'no', 'yes', 'no'],\n",
    "               'Grade': [float('NaN'), 0, 0, 0, 45/48, 0]}\n",
    "\n",
    "#insert the column labels into a pandas DataFrame\n",
    "course_data_df = pd.DataFrame(course_data, columns = ['Due_Date', 'Time', 'Class_Name', 'Course_Code', 'Assignment_Type', 'To_Do', 'Complete?', 'Grade'])\n",
    "\n",
    "print(course_data_df)"
   ]
  },
  {
   "cell_type": "code",
   "execution_count": 93,
   "metadata": {
    "collapsed": false
   },
   "outputs": [
    {
     "name": "stdout",
     "output_type": "stream",
     "text": [
      "    Due_Date   Time Class_Name Course_Code Assignment_Type  \\\n",
      "4 2020-09-26   7.00          e      NESC 5            Test   \n",
      "0 2020-10-02  23.59          a      NESC 1         Reading   \n",
      "1 2020-10-07  12.00          b      NESC 2            Exam   \n",
      "3 2020-11-09  23.59          d      NESC 4            Demo   \n",
      "5 2020-12-01  10.00          c      NESC 3         Project   \n",
      "2 2020-12-06  23.59          c      NESC 3  Discussionpost   \n",
      "\n",
      "                         To_Do Complete?   Grade  \n",
      "4              Ch.1 & Ch.2-2.5       yes  0.9375  \n",
      "0                  Ch.1, Ch. 2       yes     NaN  \n",
      "1       Ch. 7, Ch.9(p.333-335)        no  0.0000  \n",
      "3          Find relevant topic        no  0.0000  \n",
      "5  course material application        no  0.0000  \n",
      "2                Lecture 1 & 2        no  0.0000  \n"
     ]
    }
   ],
   "source": [
    "#convert column to datetime to sort the 'Due_Date' column by date\n",
    "course_data_df[\"Due_Date\"]=pd.to_datetime(course_data_df[\"Due_Date\"])\n",
    "sorted_df = course_data_df.sort_values(by=\"Due_Date\")\n",
    "print(sorted_df)"
   ]
  },
  {
   "cell_type": "code",
   "execution_count": 94,
   "metadata": {
    "collapsed": false
   },
   "outputs": [
    {
     "name": "stdout",
     "output_type": "stream",
     "text": [
      "    Due_Date   Time Class_Name Course_Code Assignment_Type  \\\n",
      "4 2020-09-26   7.00          e      NESC 5            Test   \n",
      "0 2020-10-02  23.59          a      NESC 1         Reading   \n",
      "1 2020-10-07  12.00          b      NESC 2            Exam   \n",
      "3 2020-11-09  23.59          d      NESC 4            Demo   \n",
      "5 2020-12-01  10.00          c      NESC 3         Project   \n",
      "2 2020-12-06  23.59          c      NESC 3  Discussionpost   \n",
      "\n",
      "                         To_Do Complete?  Grade  \n",
      "4              Ch.1 & Ch.2-2.5       yes  93.75  \n",
      "0                  Ch.1, Ch. 2       yes    NaN  \n",
      "1       Ch. 7, Ch.9(p.333-335)        no   0.00  \n",
      "3          Find relevant topic        no   0.00  \n",
      "5  course material application        no   0.00  \n",
      "2                Lecture 1 & 2        no   0.00  \n"
     ]
    }
   ],
   "source": [
    "#to convert the 'Grade' column values into percent, multiply by 100\n",
    "sorted_df['Grade']=sorted_df['Grade']*100\n",
    "print(sorted_df)"
   ]
  },
  {
   "cell_type": "code",
   "execution_count": 96,
   "metadata": {
    "collapsed": false
   },
   "outputs": [
    {
     "name": "stdout",
     "output_type": "stream",
     "text": [
      "    Due_Date   Time Class_Name Course_Code Assignment_Type  \\\n",
      "4 2020-09-26   7.00          e      NESC 5            Test   \n",
      "0 2020-10-02  23.59          a      NESC 1         Reading   \n",
      "1 2020-10-07  12.00          b      NESC 2            Exam   \n",
      "3 2020-11-09  23.59          d      NESC 4            Demo   \n",
      "5 2020-12-01  10.00          c      NESC 3         Project   \n",
      "2 2020-12-06  23.59          c      NESC 3  Discussionpost   \n",
      "\n",
      "                         To_Do Complete?  Grade  \n",
      "4              Ch.1 & Ch.2-2.5       yes  93.75  \n",
      "0                  Ch.1, Ch. 2       yes    NaN  \n",
      "1       Ch. 7, Ch.9(p.333-335)        no   0.00  \n",
      "3          Find relevant topic        no   0.00  \n",
      "5  course material application       yes   0.00  \n",
      "2                Lecture 1 & 2        no   0.00  \n"
     ]
    }
   ],
   "source": [
    "#As you complete assignments, you can use the loc function and the row index and column to locate the value and change it to 'yes' to signify that it has been completed\n",
    "\n",
    "sorted_df.loc[5,'Complete?'] = 'yes'\n",
    "print(sorted_df)"
   ]
  },
  {
   "cell_type": "markdown",
   "metadata": {
    "collapsed": false
   },
   "source": [
    "## Trial Errors"
   ]
  },
  {
   "cell_type": "code",
   "execution_count": 84,
   "metadata": {
    "collapsed": false
   },
   "outputs": [
    {
     "name": "stdout",
     "output_type": "stream",
     "text": [
      "    Due_Date   Time Class_Name Course_Code Assignment_Type  \\\n",
      "0  2020-10-2  23.59          a      NESC 1         Reading   \n",
      "1  2020-10-7  12.00          b      NESC 2            Exam   \n",
      "2  2020-12-6  23.59          c      NESC 3  Discussionpost   \n",
      "3  2020-11-9  23.59          d      NESC 4            Demo   \n",
      "4  2020-9-26   7.00          e      NESC 5            Test   \n",
      "5  2020-12-1  10.00          c      NESC 3         Project   \n",
      "\n",
      "                         To_Do  Complete? Grade_mistake  \n",
      "0                  Ch.1, Ch. 2          1           NaN  \n",
      "1       Ch. 7, Ch.9(p.333-335)          0             0  \n",
      "2                Lecture 1 & 2          0             0  \n",
      "3          Find relevant topic          0             0  \n",
      "4              Ch.1 & Ch.2-2.5          1        0.9375  \n",
      "5  course material application          0             0  \n"
     ]
    }
   ],
   "source": [
    "#When trying to create a value under the column 'Grade', I tried to assign one of the rows 'NaN', however, when printing the updates_df where it multiplies the 'Grade' column by 100 to convert to percentage, the value 'NaN' being a string, had actually been multiplied by 100, giving me 100 'NaN' in a row (LOL, I had fun with it and made it a beat upon realizing, nannannannannannannan)\n",
    "\n",
    "data_mistake = {\"Due_Date\": ['2020-10-2', '2020-10-7', '2020-12-6', '2020-11-9', '2020-9-26', '2020-12-1'],\n",
    "               'Time': [23.59,12.00,23.59,23.59,7.00,10.00], \n",
    "               'Class_Name': ['a', 'b', 'c', 'd', 'e', 'c'], \n",
    "               'Course_Code': ['NESC 1', 'NESC 2', 'NESC 3', 'NESC 4', 'NESC 5', 'NESC 3'], \n",
    "               'Assignment_Type': ['Reading', 'Exam', 'Discussion' 'post', 'Demo', 'Test', 'Project' ], \n",
    "               'To_Do': ['Ch.1, Ch. 2', 'Ch. 7, Ch.9(p.333-335)', 'Lecture 1 & 2', 'Find relevant topic', 'Ch.1 & Ch.2-2.5', 'course material application'], \n",
    "               'Complete?': [1, 0, 0, 0, 1, 0],\n",
    "               'Grade_mistake': ['NaN', 0, 0, 0, 45/48, 0]}\n",
    "\n",
    "data_mistake_df = pd.DataFrame(data_mistake, columns = ['Due_Date', 'Time', 'Class_Name', 'Course_Code', 'Assignment_Type', 'To_Do', 'Complete?', 'Grade_mistake'])\n",
    "\n",
    "print(data_mistake_df)"
   ]
  },
  {
   "cell_type": "code",
   "execution_count": 85,
   "metadata": {
    "collapsed": false
   },
   "outputs": [
    {
     "name": "stdout",
     "output_type": "stream",
     "text": [
      "    Due_Date   Time Class_Name Course_Code Assignment_Type  \\\n",
      "0  2020-10-2  23.59          a      NESC 1         Reading   \n",
      "1  2020-10-7  12.00          b      NESC 2            Exam   \n",
      "2  2020-12-6  23.59          c      NESC 3  Discussionpost   \n",
      "3  2020-11-9  23.59          d      NESC 4            Demo   \n",
      "4  2020-9-26   7.00          e      NESC 5            Test   \n",
      "5  2020-12-1  10.00          c      NESC 3         Project   \n",
      "\n",
      "                         To_Do  Complete?  \\\n",
      "0                  Ch.1, Ch. 2          1   \n",
      "1       Ch. 7, Ch.9(p.333-335)          0   \n",
      "2                Lecture 1 & 2          0   \n",
      "3          Find relevant topic          0   \n",
      "4              Ch.1 & Ch.2-2.5          1   \n",
      "5  course material application          0   \n",
      "\n",
      "                                       Grade_mistake  \n",
      "0  NaNNaNNaNNaNNaNNaNNaNNaNNaNNaNNaNNaNNaNNaNNaNN...  \n",
      "1                                                  0  \n",
      "2                                                  0  \n",
      "3                                                  0  \n",
      "4                                              93.75  \n",
      "5                                                  0  \n"
     ]
    }
   ],
   "source": [
    "data_mistake_df['Grade_mistake']=data_mistake_df['Grade_mistake']*100\n",
    "print(data_mistake_df)"
   ]
  },
  {
   "cell_type": "code",
   "execution_count": 87,
   "metadata": {
    "collapsed": false
   },
   "outputs": [
    {
     "name": "stdout",
     "output_type": "stream",
     "text": [
      "<class 'float'>\n",
      "nan\n"
     ]
    }
   ],
   "source": [
    "#However, found that when applying the function float() to 'NaN', the value remained the same\n",
    "\n",
    "A=float(\"NaN\")\n",
    "print(type(A))\n",
    "print(A*100)"
   ]
  },
  {
   "cell_type": "code",
   "execution_count": 0,
   "metadata": {
    "collapsed": false
   },
   "outputs": [
   ],
   "source": [
   ]
  }
 ],
 "metadata": {
  "kernelspec": {
   "display_name": "Python 3 (system-wide)",
   "language": "python",
   "metadata": {
    "cocalc": {
     "description": "Python 3 programming language",
     "priority": 100,
     "url": "https://www.python.org/"
    }
   },
   "name": "python3"
  },
  "language_info": {
   "codemirror_mode": {
    "name": "ipython",
    "version": 3
   },
   "file_extension": ".py",
   "mimetype": "text/x-python",
   "name": "python",
   "nbconvert_exporter": "python",
   "pygments_lexer": "ipython3",
   "version": "3.8.2"
  }
 },
 "nbformat": 4,
 "nbformat_minor": 4
}